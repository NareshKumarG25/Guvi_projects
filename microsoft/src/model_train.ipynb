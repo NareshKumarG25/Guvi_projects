{
 "cells": [
  {
   "cell_type": "code",
   "execution_count": 1,
   "metadata": {},
   "outputs": [
    {
     "name": "stderr",
     "output_type": "stream",
     "text": [
      "C:\\Users\\DELL\\AppData\\Local\\Temp\\ipykernel_12668\\2024916366.py:9: DtypeWarning: Columns (10,11) have mixed types. Specify dtype option on import or set low_memory=False.\n",
      "  test = pd.read_csv(file2)\n"
     ]
    }
   ],
   "source": [
    "file1= r'D:\\Naresh\\GUVI\\Projects\\Microsoft\\raw_data\\GUIDE_Train.csv'\n",
    "file2 = r'D:\\Naresh\\GUVI\\Projects\\Microsoft\\raw_data\\GUIDE_Test.csv'\n",
    "file3=r'D:\\Naresh\\GUVI\\Projects\\Microsoft\\raw_data\\new_train_sample.csv'\n",
    "\n",
    "import pandas as pd\n",
    "\n",
    "# train = pd.read_csv(file1)\n",
    "train_2=pd.read_csv(file3)\n",
    "test = pd.read_csv(file2)"
   ]
  },
  {
   "cell_type": "code",
   "execution_count": 2,
   "metadata": {},
   "outputs": [
    {
     "name": "stdout",
     "output_type": "stream",
     "text": [
      "Lenght of train 2 : 4758418\n",
      "Lenght of test : 4147992\n"
     ]
    }
   ],
   "source": [
    "# print(f'Lenght of train : {len(train)}')\n",
    "print(f'Lenght of train 2 : {len(train_2)}')\n",
    "print(f'Lenght of test : {len(test)}')"
   ]
  },
  {
   "cell_type": "code",
   "execution_count": null,
   "metadata": {},
   "outputs": [],
   "source": [
    "selected_features = ['OrgId', 'DetectorId','AlertTitle','AlertId','Category','CountryCode','EntityType','IncidentGrade'] "
   ]
  },
  {
   "cell_type": "code",
   "execution_count": 5,
   "metadata": {},
   "outputs": [],
   "source": [
    "df_filtered=train_2[selected_features]\n",
    "df_filtered = df_filtered[df_filtered['IncidentGrade'].notna()]\n",
    "\n",
    "df_test = test[selected_features]\n",
    "df_test=df_test[df_test['IncidentGrade'].notna()]\n",
    "\n",
    "\n",
    "categorical_features=[]\n",
    "numerical_features =[]\n",
    "for i in df_filtered.columns:\n",
    "\n",
    "    if type(df_filtered[i][0])== str:\n",
    "        categorical_features.append(i)\n",
    "    else:\n",
    "        numerical_features.append(i)"
   ]
  },
  {
   "cell_type": "code",
   "execution_count": 6,
   "metadata": {},
   "outputs": [],
   "source": [
    "from sklearn.preprocessing import LabelEncoder\n",
    "\n",
    "le = LabelEncoder()\n",
    "for i in categorical_features:\n",
    "    df_filtered[i]=le.fit_transform(df_filtered[i])\n",
    "    df_test[i]=le.fit_transform(df_test[i])"
   ]
  },
  {
   "cell_type": "code",
   "execution_count": 22,
   "metadata": {},
   "outputs": [],
   "source": [
    "sample_train = df_filtered.head(1000000)\n",
    "sample_test = df_test.head(1000000)"
   ]
  },
  {
   "cell_type": "code",
   "execution_count": 23,
   "metadata": {},
   "outputs": [
    {
     "name": "stdout",
     "output_type": "stream",
     "text": [
      "Lenght of train 2 : 4758418\n",
      "Lenght of sample train : 1000000\n",
      "Lenght of Test : 4147992\n",
      "Lenght of Sample test : 1000000\n"
     ]
    }
   ],
   "source": [
    "print(f'Lenght of train 2 : {len(train_2)}')\n",
    "print(f'Lenght of sample train : {len(sample_train)}')\n",
    "print(f'Lenght of Test : {len(test)}')\n",
    "print(f'Lenght of Sample test : {len(sample_test)}')"
   ]
  },
  {
   "cell_type": "code",
   "execution_count": 24,
   "metadata": {},
   "outputs": [],
   "source": [
    "import pandas as pd\n",
    "from sklearn.ensemble import RandomForestClassifier\n",
    "from sklearn.metrics import accuracy_score, classification_report, confusion_matrix\n",
    "from sklearn.tree import DecisionTreeClassifier\n",
    "\n",
    "y_train = sample_train['IncidentGrade']\n",
    "X_train = sample_train.drop('IncidentGrade', axis=1)  \n",
    "\n",
    "y_test = sample_test['IncidentGrade']\n",
    "X_test = sample_test.drop('IncidentGrade', axis=1)  \n",
    "\n",
    "rf = DecisionTreeClassifier(random_state=42)\n",
    "# rf = RandomForestClassifier(n_estimators=100, random_state=42)\n",
    "rf.fit(X_train, y_train)\n",
    "\n",
    "y_pred = rf.predict(X_test)\n"
   ]
  },
  {
   "cell_type": "code",
   "execution_count": 25,
   "metadata": {},
   "outputs": [
    {
     "name": "stdout",
     "output_type": "stream",
     "text": [
      "Length of Train data : 1000000\n",
      "Length of Test data : 1000000\n",
      "------------------------------------------------\n",
      "\n",
      "Accuracy on Test Data: 92.87%\n",
      "\n",
      "Classification Report:\n",
      "               precision    recall  f1-score   support\n",
      "\n",
      "           0       0.94      0.94      0.94    423011\n",
      "           1       0.88      0.87      0.87    217660\n",
      "           2       0.95      0.95      0.95    359329\n",
      "\n",
      "    accuracy                           0.93   1000000\n",
      "   macro avg       0.92      0.92      0.92   1000000\n",
      "weighted avg       0.93      0.93      0.93   1000000\n",
      "\n",
      "\n",
      "Confusion Matrix:\n",
      " [[398798  15185   9028]\n",
      " [ 19623 189804   8233]\n",
      " [  7376  11832 340121]]\n"
     ]
    }
   ],
   "source": [
    "# Evaluate the model\n",
    "\n",
    "print(f'Length of Train data : {len(sample_train)}')\n",
    "print(f'Length of Test data : {len(sample_test)}')\n",
    "print(\"------------------------------------------------\")\n",
    "accuracy = accuracy_score(y_test, y_pred)\n",
    "print(\"\\nAccuracy on Test Data: {:.2f}%\".format(accuracy * 100))\n",
    "\n",
    "# Additional evaluation metrics\n",
    "print(\"\\nClassification Report:\\n\", classification_report(y_test, y_pred))\n",
    "print(\"\\nConfusion Matrix:\\n\", confusion_matrix(y_test, y_pred))"
   ]
  }
 ],
 "metadata": {
  "kernelspec": {
   "display_name": "Python 3",
   "language": "python",
   "name": "python3"
  },
  "language_info": {
   "codemirror_mode": {
    "name": "ipython",
    "version": 3
   },
   "file_extension": ".py",
   "mimetype": "text/x-python",
   "name": "python",
   "nbconvert_exporter": "python",
   "pygments_lexer": "ipython3",
   "version": "3.12.3"
  }
 },
 "nbformat": 4,
 "nbformat_minor": 2
}
